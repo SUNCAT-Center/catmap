{
 "cells": [
  {
   "cell_type": "markdown",
   "metadata": {},
   "source": [
    "## How to import the data\n",
    "\n",
    "    1. Define search filters. This is needed if some data has to be filtered out.\n",
    "    2. Import data from ase databases.\n",
    "    3. Store references and calculate formation energies.\n",
    "    4. Export catmap input file.\n",
    "\n",
    "It is important to pay attention to the search filters. If you get garbage results, it is likely because the search filters are not sufficient for your dataset. Make sure you filter calculator parameters such as XC-functional, basis sets cutoffs, k-point sampling, ect., when necessary.\n",
    "\n",
    "Importing data from correctly formatted .db files:"
   ]
  },
  {
   "cell_type": "code",
   "execution_count": null,
   "metadata": {},
   "outputs": [],
   "source": [
    "# Import and instantiate energy_landscape object.\n",
    "from catmap.api.ase_data import EnergyLandscape\n",
    "energy_landscape = EnergyLandscape()\n",
    "\n",
    "# Import all gas phase species from db.\n",
    "search_filter_gas = []\n",
    "energy_landscape.get_molecules('molecules.db', selection=search_filter_gas)\n",
    "\n",
    "# Import all adsorbates and slabs from db.\n",
    "search_filter_slab = []\n",
    "energy_landscape.get_surfaces('surfaces.db', selection=search_filter_slab, site_specific=False)"
   ]
  },
  {
   "cell_type": "markdown",
   "metadata": {},
   "source": [
    "The `site_specific` option accepts `True`, `False` or a string. In the latter case, the `site` key is recognized only if the value matches the string, while all other sites are treated as identical.\n",
    "\n",
    "Your data is now stored in dictionaries that are attached to your db2catmap object.\n",
    "\n",
    "## Get formation energies and export to catmap format.\n",
    "\n",
    "Formation energies are calculated:"
   ]
  },
  {
   "cell_type": "code",
   "execution_count": null,
   "metadata": {},
   "outputs": [],
   "source": [
    "references = (('H', 'H2_gas'), ('O', 'H2O_gas'), ('C', 'CH4_gas'),)\n",
    "energy_landscape.calc_formation_energies(references)"
   ]
  },
  {
   "cell_type": "markdown",
   "metadata": {},
   "source": [
    "`references` is a required parameter, that should contain gas phase references. If a gas phase reference is dependent on another, order the dependent one after the latter."
   ]
  },
  {
   "cell_type": "code",
   "execution_count": null,
   "metadata": {},
   "outputs": [],
   "source": [
    "file_name = 'my_input.txt'\n",
    "energy_landscape.make_input_file(file_name)"
   ]
  },
  {
   "cell_type": "markdown",
   "metadata": {},
   "source": [
    "finally saves the input file, compatible with catmap.\n",
    "\n",
    "## How to import frequencies.\n",
    "\n",
    "The field `data` always contains a dictionary. Use it with the key `frequencies` to make them accessible to the asedb2catmap module.\n",
    "\n",
    "Importing frequencies is handled by the methods `get_surfaces` and `get_molecules`, which we have already used. It is necessary to pass the parameter `frequency_db` to it to import frequencies along with atomic structures like so:"
   ]
  },
  {
   "cell_type": "code",
   "execution_count": null,
   "metadata": {},
   "outputs": [],
   "source": [
    "energy_landscape.get_molecules('molecules.db', frequency_db='frequencies.db', selection=search_filter_gas)"
   ]
  },
  {
   "cell_type": "markdown",
   "metadata": {},
   "source": [
    "## How to import transition states and pathways.\n",
    "\n",
    "Transition states and paths have the mandatory key value pairs:\n",
    "\n",
    " - `path_id`\n",
    " - `step` or `image`\n",
    "\n",
    "`step` or `image` is used to order the images.\n",
    "There is one additional recommended key value pair:\n",
    "\n",
    " - `distance`\n",
    "\n",
    "which is useful for making plots of the energy versus a reaction coordinate.\n",
    "To add formation energies of transition states to your catmap input, you can use the method:"
   ]
  },
  {
   "cell_type": "code",
   "execution_count": null,
   "metadata": {},
   "outputs": [],
   "source": [
    "energy_landscape.get_transition_states('neb.db')"
   ]
  }
 ],
 "metadata": {
  "kernelspec": {
   "display_name": "Python 3",
   "language": "python",
   "name": "python3"
  },
  "language_info": {
   "codemirror_mode": {
    "name": "ipython",
    "version": 3
   },
   "file_extension": ".py",
   "mimetype": "text/x-python",
   "name": "python",
   "nbconvert_exporter": "python",
   "pygments_lexer": "ipython3",
   "version": "3.6.4"
  }
 },
 "nbformat": 4,
 "nbformat_minor": 2
}
