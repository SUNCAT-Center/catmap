{
 "cells": [
  {
   "cell_type": "markdown",
   "metadata": {},
   "source": [
    "# Import data from Catalysishub.org for CatMAP\n",
    "\n",
    "In this tutorial we will\n",
    "    -   Download a set of formation energies from a publication and export them as a CatMAP data file.\n",
    "    -   Create an ASE-db sqlite3 file containing the corresponding atomic structures."
   ]
  },
  {
   "cell_type": "code",
   "execution_count": null,
   "metadata": {},
   "outputs": [],
   "source": [
    "# Import modules\n",
    "from os import environ\n",
    "\n",
    "import ase.db\n",
    "from ase.visualize import view\n",
    "\n",
    "from catmap.api.cathub import CatalysisHub"
   ]
  },
  {
   "cell_type": "markdown",
   "metadata": {},
   "source": [
    "### Download formation energies.\n",
    "\n",
    "First we need to query the database and get the `pubId` for the publication we want to obtain data from."
   ]
  },
  {
   "cell_type": "code",
   "execution_count": null,
   "metadata": {},
   "outputs": [],
   "source": [
    "# Instantiate cathub interface object.\n",
    "cathub = CatalysisHub()\n",
    "\n",
    "# GraphQL search string.\n",
    "publication = \"\"\" title: \\\"WO3 surface doping for OER to be published\\\" \"\"\"\n",
    "\n",
    "# Return the pubId.\n",
    "pubid = cathub.get_publication_id(publication)"
   ]
  },
  {
   "cell_type": "markdown",
   "metadata": {},
   "source": [
    "Once we have `pubId`, it is easy to query reactions limiting them to a publication.\n",
    "\n",
    "Formation energies as used by CatMAP are simply reaction energies with respect to a fixed reference.\n",
    "Therefore, you only need to query for reactions from the relevant gas phase references, in order to download the relevant set of formation energies."
   ]
  },
  {
   "cell_type": "code",
   "execution_count": null,
   "metadata": {},
   "outputs": [],
   "source": [
    "# GraphQL search string.\n",
    "query_string = \"\"\" reactants: \\\"~H2Ogas + ~H2gas\\\" pubId: \\\"\"\"\" + pubid + \"\"\"\\\" first: 10 \"\"\"\n",
    "\n",
    "reactions = cathub.get_reactions(query_string)\n",
    "print(len(reactions))"
   ]
  },
  {
   "cell_type": "markdown",
   "metadata": {},
   "source": [
    "We have now retrieved a list of dictionaries, `reactions`. The reaction energies can be attached to a `catmap.api.energy_landscape` object as formation energies."
   ]
  },
  {
   "cell_type": "code",
   "execution_count": null,
   "metadata": {},
   "outputs": [],
   "source": [
    "# Download and attach reaction energies.\n",
    "energy_landscape = cathub.attach_reaction_energies(reactions, site_specific=True)"
   ]
  },
  {
   "cell_type": "markdown",
   "metadata": {},
   "source": [
    "Finally, as usual, we export a CatMAP input file."
   ]
  },
  {
   "cell_type": "code",
   "execution_count": null,
   "metadata": {},
   "outputs": [],
   "source": [
    "energy_landscape.make_input_file(pubid + '.txt')"
   ]
  },
  {
   "cell_type": "markdown",
   "metadata": {},
   "source": [
    "### Atomic structures.\n",
    "\n",
    "Retrieving structures directly from the Catalysishub backend requires a login.\n",
    "\n",
    "You can store the login details as environment variables by typing\n",
    "\n",
    "    export CATHUB_USER=<username>\n",
    "    export CATHUB_PASSWORD=<password>\n",
    "    \n",
    "on the command line, or by adding it to your .bash_profile or .bashrc, or just type them in below."
   ]
  },
  {
   "cell_type": "code",
   "execution_count": null,
   "metadata": {},
   "outputs": [],
   "source": [
    "# Retrieve the login details, assuming you have stored them in an environment variable.\n",
    "username = environ['CATHUB_USER']\n",
    "password = environ['CATHUB_PASSWORD']\n",
    "\n",
    "# Instantiate the catmap.api.cathub.CatalysisHub class and store the login details in the class.\n",
    "cathub = CatalysisHub(username=username, password=password)"
   ]
  },
  {
   "cell_type": "markdown",
   "metadata": {},
   "source": [
    "Next, we will search for a set of structures from a publication."
   ]
  },
  {
   "cell_type": "code",
   "execution_count": null,
   "metadata": {},
   "outputs": [],
   "source": [
    "# Return a list of atoms objects.\n",
    "images = cathub.get_publication_atoms(\"\"\" pubId: \\\"\"\"\" + pubid + \"\"\"\\\" \"\"\", limit=10)"
   ]
  },
  {
   "cell_type": "code",
   "execution_count": null,
   "metadata": {},
   "outputs": [],
   "source": [
    "# Save them to an ASE-db file.\n",
    "c = ase.db.connect('my_asedb.db')\n",
    "\n",
    "for atoms in images:\n",
    "    c.write(atoms, key_value_pairs=atoms.info['key_value_pairs'])"
   ]
  }
 ],
 "metadata": {
  "kernelspec": {
   "display_name": "Python 3",
   "language": "python",
   "name": "python3"
  },
  "language_info": {
   "codemirror_mode": {
    "name": "ipython",
    "version": 3
   },
   "file_extension": ".py",
   "mimetype": "text/x-python",
   "name": "python",
   "nbconvert_exporter": "python",
   "pygments_lexer": "ipython3",
   "version": "3.6.4"
  }
 },
 "nbformat": 4,
 "nbformat_minor": 2
}
